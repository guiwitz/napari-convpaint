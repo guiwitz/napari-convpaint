version https://git-lfs.github.com/spec/v1
oid sha256:5b513c0fe0714dc909c9b2a3dff558c66cdb74b352ed24b1d7241041283ddb2c
size 115330365
