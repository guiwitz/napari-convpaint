{
 "cells": [
  {
   "cell_type": "markdown",
   "source": [
    "# Study of feature importance"
   ],
   "metadata": {
    "collapsed": false
   },
   "id": "3f64424f03b02b4c"
  },
  {
   "cell_type": "markdown",
   "source": [
    "In this notebook we apply several methods to understand which features are important for the predictions"
   ],
   "metadata": {
    "collapsed": false
   },
   "id": "84334c650003e2e6"
  },
  {
   "cell_type": "code",
   "execution_count": null,
   "outputs": [],
   "source": [
    "# ToDo: comments to be completed"
   ],
   "metadata": {
    "collapsed": false
   },
   "id": "84c070fe40d5d61b"
  },
  {
   "cell_type": "code",
   "execution_count": null,
   "id": "42363ad6",
   "metadata": {
    "execution": {
     "iopub.execute_input": "2023-11-23T15:51:47.886021Z",
     "iopub.status.busy": "2023-11-23T15:51:47.886021Z",
     "iopub.status.idle": "2023-11-23T15:51:47.906113Z",
     "shell.execute_reply": "2023-11-23T15:51:47.905115Z",
     "shell.execute_reply.started": "2023-11-23T15:51:47.886021Z"
    }
   },
   "outputs": [],
   "source": [
    "import umap\n",
    "import umap.plot\n",
    "\n",
    "import pandas as pd\n",
    "import numpy as np\n",
    "\n",
    "import matplotlib.pyplot as plt\n",
    "\n",
    "import pickle\n",
    "import pathlib as pl\n",
    "import os\n",
    "\n",
    "from sklearn.model_selection import train_test_split\n",
    "from sklearn.ensemble import RandomForestClassifier\n",
    "from sklearn.preprocessing import StandardScaler\n",
    "from sklearn.decomposition import PCA\n",
    "\n",
    "from sklearn.metrics import f1_score, average_precision_score, precision_score, recall_score, jaccard_score\n",
    "from sklearn.metrics import classification_report\n",
    "from sklearn.metrics import confusion_matrix, ConfusionMatrixDisplay\n",
    "#from sklearn.metrics import entropy\n",
    "\n",
    "import lightgbm as lgb\n",
    "import shap"
   ]
  },
  {
   "cell_type": "code",
   "execution_count": null,
   "id": "5e8d7f9c",
   "metadata": {
    "execution": {
     "iopub.execute_input": "2023-11-18T17:45:03.536610Z",
     "iopub.status.busy": "2023-11-18T17:45:03.536610Z",
     "iopub.status.idle": "2023-11-18T17:45:03.568461Z",
     "shell.execute_reply": "2023-11-18T17:45:03.567464Z",
     "shell.execute_reply.started": "2023-11-18T17:45:03.536610Z"
    }
   },
   "outputs": [],
   "source": [
    "def load_pckl(file_name, path=None):\n",
    "    if path is not None:\n",
    "        file_name = os.path.join(path, file_name)\n",
    "\n",
    "    with open(file_name, 'rb') as f:\n",
    "        data = pickle.load(f)\n",
    "    return data\n",
    "\n",
    "\n",
    "def save_pckl(d, file_name, pr=None, path=None):\n",
    "    if path is not None:\n",
    "        file_name = os.path.join(path, file_name)\n",
    "\n",
    "    with open(file_name, 'wb') as f:\n",
    "        pickle.dump(d, f, protocol=pr if pr is not None else pickle.DEFAULT_PROTOCOL)"
   ]
  },
  {
   "cell_type": "code",
   "execution_count": null,
   "id": "a91d195a",
   "metadata": {
    "execution": {
     "iopub.execute_input": "2023-11-18T17:45:05.298744Z",
     "iopub.status.busy": "2023-11-18T17:45:05.297746Z",
     "iopub.status.idle": "2023-11-18T17:45:05.309256Z",
     "shell.execute_reply": "2023-11-18T17:45:05.308104Z",
     "shell.execute_reply.started": "2023-11-18T17:45:05.298744Z"
    }
   },
   "outputs": [],
   "source": [
    "data_root = pl.Path(r'D:\\Projects_MV\\conv_paint\\data')"
   ]
  },
  {
   "cell_type": "code",
   "execution_count": null,
   "id": "75cd37ed",
   "metadata": {
    "execution": {
     "iopub.execute_input": "2023-11-18T17:45:06.255497Z",
     "iopub.status.busy": "2023-11-18T17:45:06.255497Z",
     "iopub.status.idle": "2023-11-18T17:45:06.288058Z",
     "shell.execute_reply": "2023-11-18T17:45:06.286042Z",
     "shell.execute_reply.started": "2023-11-18T17:45:06.255497Z"
    }
   },
   "outputs": [],
   "source": [
    "datasets = [ 'actin', 'fret', 'nuclei', 'spindle', 'worms', 'worms2']\n",
    "ds = datasets[0]"
   ]
  },
  {
   "cell_type": "code",
   "execution_count": null,
   "id": "e93abaf2",
   "metadata": {
    "editable": true,
    "execution": {
     "iopub.execute_input": "2023-11-18T17:45:07.449713Z",
     "iopub.status.busy": "2023-11-18T17:45:07.449713Z",
     "iopub.status.idle": "2023-11-18T17:45:07.457556Z",
     "shell.execute_reply": "2023-11-18T17:45:07.456633Z",
     "shell.execute_reply.started": "2023-11-18T17:45:07.449713Z"
    },
    "slideshow": {
     "slide_type": ""
    },
    "tags": []
   },
   "outputs": [],
   "source": [
    "blocks = [1, 64, 64, 256, 512, 512, 64, 64, 256, 512, 512, 1, 64, 64, 256, 512, 512, 64, 64, 256, 512, 512]"
   ]
  },
  {
   "cell_type": "code",
   "execution_count": null,
   "id": "3469c243",
   "metadata": {
    "editable": true,
    "execution": {
     "iopub.execute_input": "2023-11-18T17:45:08.163407Z",
     "iopub.status.busy": "2023-11-18T17:45:08.163407Z",
     "iopub.status.idle": "2023-11-18T17:45:08.181463Z",
     "shell.execute_reply": "2023-11-18T17:45:08.180465Z",
     "shell.execute_reply.started": "2023-11-18T17:45:08.163407Z"
    },
    "slideshow": {
     "slide_type": ""
    },
    "tags": []
   },
   "outputs": [],
   "source": [
    "sum(blocks)"
   ]
  },
  {
   "cell_type": "code",
   "execution_count": null,
   "id": "d16f40da-601f-4723-b6fd-4f8ccbe3a253",
   "metadata": {
    "editable": true,
    "execution": {
     "iopub.execute_input": "2023-11-18T17:45:32.131848Z",
     "iopub.status.busy": "2023-11-18T17:45:32.130849Z",
     "iopub.status.idle": "2023-11-18T17:45:32.146893Z",
     "shell.execute_reply": "2023-11-18T17:45:32.145961Z",
     "shell.execute_reply.started": "2023-11-18T17:45:32.131848Z"
    },
    "slideshow": {
     "slide_type": ""
    },
    "tags": []
   },
   "outputs": [],
   "source": [
    "csb = np.cumsum([0]+blocks)\n",
    "csb = list(csb)"
   ]
  },
  {
   "cell_type": "code",
   "execution_count": null,
   "id": "bef8bee4",
   "metadata": {
    "editable": true,
    "execution": {
     "iopub.execute_input": "2023-10-23T09:57:52.375890Z",
     "iopub.status.busy": "2023-10-23T09:57:52.374893Z",
     "iopub.status.idle": "2023-10-23T09:57:54.053004Z",
     "shell.execute_reply": "2023-10-23T09:57:54.053004Z",
     "shell.execute_reply.started": "2023-10-23T09:57:52.375890Z"
    },
    "scrolled": true,
    "slideshow": {
     "slide_type": ""
    },
    "tags": []
   },
   "outputs": [],
   "source": [
    "for ds in datasets:\n",
    "    p = data_root/'features'/ds\n",
    "    for pi in p.glob('embedding_sample_*.pckl'):\n",
    "        print(pi)\n",
    "\n",
    "        d_emb = load_pckl(pi)"
   ]
  },
  {
   "cell_type": "code",
   "execution_count": null,
   "id": "c46ae369-395c-4c8b-8cc0-4883841a1975",
   "metadata": {
    "execution": {
     "iopub.execute_input": "2023-10-23T09:58:05.197470Z",
     "iopub.status.busy": "2023-10-23T09:58:05.196472Z",
     "iopub.status.idle": "2023-10-23T09:58:05.206434Z",
     "shell.execute_reply": "2023-10-23T09:58:05.205424Z",
     "shell.execute_reply.started": "2023-10-23T09:58:05.197470Z"
    }
   },
   "outputs": [],
   "source": [
    "d_emb.keys()"
   ]
  },
  {
   "cell_type": "code",
   "execution_count": null,
   "id": "6f48d687-733a-487a-bd3f-4dcfab828fdf",
   "metadata": {
    "execution": {
     "iopub.execute_input": "2023-10-23T09:58:28.237736Z",
     "iopub.status.busy": "2023-10-23T09:58:28.236738Z",
     "iopub.status.idle": "2023-10-23T09:58:28.250233Z",
     "shell.execute_reply": "2023-10-23T09:58:28.249131Z",
     "shell.execute_reply.started": "2023-10-23T09:58:28.237736Z"
    }
   },
   "outputs": [],
   "source": [
    "d_emb['f'].shape, d_emb['l'].shape"
   ]
  },
  {
   "cell_type": "code",
   "execution_count": null,
   "id": "c1e9bbe3-8c3b-4974-a8d1-f0c9dabb6109",
   "metadata": {
    "execution": {
     "iopub.execute_input": "2023-10-23T10:10:35.255254Z",
     "iopub.status.busy": "2023-10-23T10:10:35.254257Z",
     "iopub.status.idle": "2023-10-23T10:10:35.452844Z",
     "shell.execute_reply": "2023-10-23T10:10:35.450842Z",
     "shell.execute_reply.started": "2023-10-23T10:10:35.255254Z"
    }
   },
   "outputs": [],
   "source": [
    "plt.hist( d_emb['l']);"
   ]
  },
  {
   "cell_type": "markdown",
   "id": "94257264-41b8-46a6-98c6-5d945d29b1af",
   "metadata": {},
   "source": [
    "# Model fitting"
   ]
  },
  {
   "cell_type": "markdown",
   "id": "8703ef65-ae16-4b69-ae29-885e79c97594",
   "metadata": {},
   "source": [
    "+try this and rf\n",
    "\n",
    "+add tra-val split\n",
    "\n",
    "re-eval same on mode data"
   ]
  },
  {
   "cell_type": "code",
   "execution_count": null,
   "id": "7f9db638-e082-4a91-9f14-dd169b2d5b4e",
   "metadata": {
    "execution": {
     "iopub.execute_input": "2023-11-23T16:06:19.533387Z",
     "iopub.status.busy": "2023-11-23T16:06:19.533387Z",
     "iopub.status.idle": "2023-11-23T16:06:19.561092Z",
     "shell.execute_reply": "2023-11-23T16:06:19.561092Z",
     "shell.execute_reply.started": "2023-11-23T16:06:19.533387Z"
    }
   },
   "outputs": [],
   "source": [
    "def eval_model(clf, X_val, y_val):\n",
    "    # Predict on the validation set\n",
    "    y_pred = clf.predict(X_val)\n",
    "    y_pred_proba = clf.predict_proba(X_val)[:, 1:2]  # \n",
    "    \n",
    "    # Calculate F1 score\n",
    "    f1 = f1_score(y_val, y_pred, average='weighted')\n",
    "    \n",
    "    # Calculate Average Precision\n",
    "    average_precision = average_precision_score(y_val==2, y_pred_proba)\n",
    "    \n",
    "    # Calculate Precision\n",
    "    precision = precision_score(y_val, y_pred, average='weighted')\n",
    "    \n",
    "    # Calculate Recall\n",
    "    recall = recall_score(y_val, y_pred, average='weighted')\n",
    "    \n",
    "    # Calculate Jaccard score (intersection over union)\n",
    "    jaccard = jaccard_score(y_val, y_pred, average='weighted')\n",
    "    cm = confusion_matrix(y_val, y_pred, labels=clf.classes_)\n",
    "        \n",
    "    d = {\n",
    "        'f1': f1,\n",
    "        'ap': average_precision,\n",
    "        'p': precision,\n",
    "        'r': recall,\n",
    "        'IoU': jaccard,\n",
    "        'cm': cm\n",
    "    }\n",
    "    print('Classification Report:')\n",
    "    print(classification_report(y_val, y_pred))\n",
    "\n",
    "\n",
    "    disp = ConfusionMatrixDisplay(confusion_matrix=cm,\n",
    "                                  display_labels=clf.classes_)\n",
    "    fig, ax = plt.subplots(figsize=(3, 3))\n",
    "    disp.plot(ax=ax)\n",
    "    plt.show()\n",
    "    plt.close()\n",
    "    return d"
   ]
  },
  {
   "cell_type": "code",
   "execution_count": null,
   "id": "1539b759-752b-4749-9cc7-825e77240be9",
   "metadata": {
    "collapsed": true,
    "execution": {
     "iopub.execute_input": "2023-10-23T12:20:51.716393Z",
     "iopub.status.busy": "2023-10-23T12:20:51.716393Z",
     "iopub.status.idle": "2023-10-24T21:47:54.262808Z",
     "shell.execute_reply": "2023-10-24T21:47:54.262808Z",
     "shell.execute_reply.started": "2023-10-23T12:20:51.716393Z"
    },
    "jupyter": {
     "outputs_hidden": true
    },
    "scrolled": true
   },
   "outputs": [],
   "source": [
    "n_per_cl = 10000\n",
    "n_per_cl_sh = 1000\n",
    "\n",
    "for ds in datasets:\n",
    "    p = data_root/'features'/ds\n",
    "    p = data_root/'features'/ds\n",
    "    \n",
    "    all_features_all_samples = []\n",
    "    all_targets_all_samples = []\n",
    "\n",
    "    for pi in p.glob('features_*.pckl'):\n",
    "        if '_sample_' in str(pi):\n",
    "            continue\n",
    "        # print(pi)\n",
    "        #try:\n",
    "        d = load_pckl(pi)\n",
    "        #except Exception as e:\n",
    "        #    continue\n",
    "        # print(d['features'][0].shape)\n",
    "        features_all_samples, targets_all_samples, feature_info = d['features'][0], d['targets'][0], d['feature_info']\n",
    "        all_features_all_samples.append(np.asarray(features_all_samples))\n",
    "        all_targets_all_samples.append(np.asarray(targets_all_samples))\n",
    "\n",
    "    \n",
    "    all_features_all_samples = np.concatenate(all_features_all_samples, axis=0)\n",
    "    all_targets_all_samples = np.concatenate(all_targets_all_samples, axis=0)\n",
    "    print(f'all_features_all_samples.shape={all_features_all_samples.shape}; all_targets_all_samples.shape={all_targets_all_samples.shape}')\n",
    "\n",
    "    def subsample_idx(class_lbl, n_per_class):\n",
    "        class_indices = {}\n",
    "        for class_id in set(class_lbl):\n",
    "            indices = np.where(np.array(class_lbl) == class_id)[0]\n",
    "            np.random.shuffle(indices)  # Shuffle the indices\n",
    "            class_indices[class_id] = indices[:n_per_class]  # Take the first n_per_cl indices\n",
    "        \n",
    "        # Concatenate the selected indices\n",
    "        selected_indices = np.concatenate(list(class_indices.values()))\n",
    "\n",
    "        return selected_indices\n",
    "\n",
    "    selected_indices = subsample_idx(all_targets_all_samples, n_per_cl)\n",
    "\n",
    "    X, y = all_features_all_samples[selected_indices].copy(), all_targets_all_samples[selected_indices].copy()\n",
    "    \n",
    "    X_train_all, X_val_all, y_train, y_val = train_test_split(X, y, test_size=0.2, random_state=108)\n",
    "\n",
    "    selected_indices_sh = subsample_idx(y_val, n_per_cl_sh)\n",
    "    X_val_sh_all = X_val_all[selected_indices_sh].copy()\n",
    "    y_val_sh = y_val[selected_indices_sh].copy()\n",
    "\n",
    "    d_feat = {\n",
    "        'X_train_all' : X_train_all,\n",
    "        'X_val_all' : X_val_all,\n",
    "        'X_val_sh_all' : X_val_sh_all,\n",
    "        'y_train' : y_train,\n",
    "        'y_val' : y_val,\n",
    "        'y_val_sh' : y_val_sh,\n",
    "    }\n",
    "    for b, e in zip(csb[0:-1]+[csb[0]], csb[1:]+[csb[-1]]):  # last = all channels together\n",
    "        X_train = X_train_all[:, b:e].copy()\n",
    "        X_val = X_val_all[:, b:e].copy()\n",
    "        X_val_sh = X_val_sh_all[:, b:e].copy()\n",
    "\n",
    "        print(ds, b, e, X_train.shape, X_val.shape)\n",
    "        \n",
    "        clf_rf = RandomForestClassifier(n_estimators=100, n_jobs=8)\n",
    "        clf_rf.fit(X=X_train, y=y_train)\n",
    "\n",
    "        d_feat[f'eval_rf_{b}_{e}'] = eval_model(clf_rf, X_val, y_val)\n",
    "\n",
    "        print('done rf')\n",
    "    \n",
    "        # We create the LGBMClassifier model and train it\n",
    "        clf_km = lgb.LGBMClassifier(colsample_by_tree=0.8, n_jobs=8)\n",
    "        clf_km.fit(X=X_train, y=y_train)\n",
    "\n",
    "        d_feat[f'eval_km_{b}_{e}'] = eval_model(clf_km, X_val, y_val)\n",
    "    \n",
    "        print('done lgbm')\n",
    "        explainer_rf = shap.TreeExplainer(clf_rf)\n",
    "        shap_values_rf = explainer_rf.shap_values(X_val_sh, y_val_sh, check_additivity=False)\n",
    "        d_feat[f'shap_rf_{b}_{e}'] = shap_values_rf\n",
    "\n",
    "        fib = feature_info[b]\n",
    "        ttl = fib[1].replace(f'_{fib[0]}', '')\n",
    "        \n",
    "        shap.summary_plot(shap_values_rf, plot_type=\"bar\", plot_size=(15, 10), max_display=50, show=False)\n",
    "        plt.title(ttl)\n",
    "        \n",
    "        plt.savefig(p/f'plots_shap_rf_{b}_{e}')\n",
    "        plt.show()\n",
    "        plt.close()\n",
    "\n",
    "        print('done rf shap')\n",
    "        \n",
    "        explainer_km = shap.TreeExplainer(clf_km)\n",
    "        shap_values_km = explainer_km.shap_values(X_val_sh, y_val_sh, check_additivity=False)\n",
    "        d_feat[f'shap_km_{b}_{e}'] = shap_values_km\n",
    "\n",
    "        shap.summary_plot(shap_values_km, plot_type=\"bar\", plot_size=(15, 10), max_display=50, show=False)\n",
    "        plt.title(ttl)\n",
    "        \n",
    "        plt.savefig(p/f'plots_shap_km_{b}_{e}')\n",
    "        plt.show()\n",
    "        plt.close()\n",
    "\n",
    "        print('done lgbm shap')\n",
    "    \n",
    "    save_pckl(d_feat, f'features_sample_{n_per_cl//1000}k.pckl', path=p.as_posix())"
   ]
  },
  {
   "cell_type": "markdown",
   "id": "b4b715af-86f4-4ad3-be13-52456dc69f3f",
   "metadata": {},
   "source": [
    "# Entropy"
   ]
  },
  {
   "cell_type": "code",
   "execution_count": null,
   "id": "36b070bc-ea92-4f60-8fe5-42baee8f46d7",
   "metadata": {
    "execution": {
     "iopub.execute_input": "2023-11-18T17:46:21.091078Z",
     "iopub.status.busy": "2023-11-18T17:46:21.091078Z",
     "iopub.status.idle": "2023-11-18T17:46:24.870294Z",
     "shell.execute_reply": "2023-11-18T17:46:24.868298Z",
     "shell.execute_reply.started": "2023-11-18T17:46:21.091078Z"
    }
   },
   "outputs": [],
   "source": [
    "for ds in datasets:\n",
    "    p = data_root/'features'/ds\n",
    "    \n",
    "    for pi in p.glob('features_sample_*k.pckl'):\n",
    "        #print(pi)\n",
    "        d = load_pckl(pi)\n",
    "        stop\n",
    "    "
   ]
  },
  {
   "cell_type": "code",
   "execution_count": null,
   "id": "fdf98be5-0cf6-4b55-abf6-83afec9e688e",
   "metadata": {
    "execution": {
     "iopub.execute_input": "2023-11-18T17:48:28.837774Z",
     "iopub.status.busy": "2023-11-18T17:48:28.837774Z",
     "iopub.status.idle": "2023-11-18T17:48:28.854074Z",
     "shell.execute_reply": "2023-11-18T17:48:28.853018Z",
     "shell.execute_reply.started": "2023-11-18T17:48:28.837774Z"
    },
    "scrolled": true
   },
   "outputs": [],
   "source": [
    "d.keys()"
   ]
  },
  {
   "cell_type": "code",
   "execution_count": null,
   "id": "c82e239c-8b49-4513-aa77-a5d0c7aab7f4",
   "metadata": {
    "execution": {
     "iopub.execute_input": "2023-11-18T17:48:34.427655Z",
     "iopub.status.busy": "2023-11-18T17:48:34.427655Z",
     "iopub.status.idle": "2023-11-18T17:48:34.443545Z",
     "shell.execute_reply": "2023-11-18T17:48:34.442412Z",
     "shell.execute_reply.started": "2023-11-18T17:48:34.427655Z"
    }
   },
   "outputs": [],
   "source": [
    "x_all = d['X_train_all']\n",
    "y_all = d['y_train']\n",
    "\n",
    "x_all.shape, y_all.shape"
   ]
  },
  {
   "cell_type": "code",
   "execution_count": null,
   "id": "f6c6d260-a1c3-4831-9914-290f139ccd9c",
   "metadata": {
    "execution": {
     "iopub.execute_input": "2023-11-18T17:48:43.809070Z",
     "iopub.status.busy": "2023-11-18T17:48:43.808015Z",
     "iopub.status.idle": "2023-11-18T17:48:43.819390Z",
     "shell.execute_reply": "2023-11-18T17:48:43.818868Z",
     "shell.execute_reply.started": "2023-11-18T17:48:43.809070Z"
    }
   },
   "outputs": [],
   "source": [
    "ls = [1, 2, 3]\n",
    "masks = {l: y_all==l for l in ls}"
   ]
  },
  {
   "cell_type": "code",
   "execution_count": null,
   "id": "32b28649-0e97-4537-a0b6-bcde03b7976f",
   "metadata": {
    "execution": {
     "iopub.execute_input": "2023-11-18T17:48:45.879180Z",
     "iopub.status.busy": "2023-11-18T17:48:45.877850Z",
     "iopub.status.idle": "2023-11-18T17:48:46.413521Z",
     "shell.execute_reply": "2023-11-18T17:48:46.411840Z",
     "shell.execute_reply.started": "2023-11-18T17:48:45.878846Z"
    }
   },
   "outputs": [],
   "source": [
    "#std difference:\n",
    "\n",
    "x_std = {l: x_all[masks[l]].std(axis=0) for l in ls}"
   ]
  },
  {
   "cell_type": "code",
   "execution_count": null,
   "id": "ee6d6832-cd4c-439b-8aff-7d65c3a561b1",
   "metadata": {
    "execution": {
     "iopub.execute_input": "2023-11-18T17:48:48.588197Z",
     "iopub.status.busy": "2023-11-18T17:48:48.588197Z",
     "iopub.status.idle": "2023-11-18T17:48:48.600328Z",
     "shell.execute_reply": "2023-11-18T17:48:48.599324Z",
     "shell.execute_reply.started": "2023-11-18T17:48:48.588197Z"
    }
   },
   "outputs": [],
   "source": [
    "signal_order = np.argsort(x_std[2])"
   ]
  },
  {
   "cell_type": "code",
   "execution_count": null,
   "id": "369ab8f9-e7a2-43b4-aeca-77222adc6ce9",
   "metadata": {
    "execution": {
     "iopub.execute_input": "2023-11-18T17:48:49.194806Z",
     "iopub.status.busy": "2023-11-18T17:48:49.194806Z",
     "iopub.status.idle": "2023-11-18T17:48:49.210457Z",
     "shell.execute_reply": "2023-11-18T17:48:49.210457Z",
     "shell.execute_reply.started": "2023-11-18T17:48:49.194806Z"
    }
   },
   "outputs": [],
   "source": [
    "#plt.plot(x_std[2][signal_order])"
   ]
  },
  {
   "cell_type": "code",
   "execution_count": null,
   "id": "7bbebf15-e7c5-42d1-b5f8-b0ab7d65d7ca",
   "metadata": {
    "execution": {
     "iopub.execute_input": "2023-11-18T17:48:49.973639Z",
     "iopub.status.busy": "2023-11-18T17:48:49.973639Z",
     "iopub.status.idle": "2023-11-18T17:48:49.988798Z",
     "shell.execute_reply": "2023-11-18T17:48:49.988798Z",
     "shell.execute_reply.started": "2023-11-18T17:48:49.973639Z"
    }
   },
   "outputs": [],
   "source": [
    "sum(x_std[2]==0)"
   ]
  },
  {
   "cell_type": "code",
   "execution_count": null,
   "id": "9ff98abd-e959-4baa-b691-d45db5ab2e52",
   "metadata": {
    "execution": {
     "iopub.execute_input": "2023-11-18T17:48:54.449343Z",
     "iopub.status.busy": "2023-11-18T17:48:54.449343Z",
     "iopub.status.idle": "2023-11-18T17:48:56.869287Z",
     "shell.execute_reply": "2023-11-18T17:48:56.869155Z",
     "shell.execute_reply.started": "2023-11-18T17:48:54.449343Z"
    }
   },
   "outputs": [],
   "source": [
    "fig, ax = plt.subplots(nrows=2, ncols=2, figsize=(16, 6))\n",
    "ax[0][0].plot(x_std[2]/x_std[1])\n",
    "ax[0][1].plot(x_std[2]/x_std[3])\n",
    "ax[1][0].semilogy(x_std[2]/x_std[1])\n",
    "ax[1][1].semilogy(x_std[2]/x_std[3])\n",
    "\n",
    "ax[0][0].set_title('signal/bg std ratio')\n",
    "ax[0][1].set_title('signal/edge std ratio')\n",
    "ax[0][0].set_ylim(0, 500)\n",
    "ax[0][1].set_ylim(0, 500);\n"
   ]
  },
  {
   "cell_type": "markdown",
   "id": "479cb0db-757d-495a-a650-48c80e4d6197",
   "metadata": {},
   "source": [
    "# Eval subsetted performance"
   ]
  },
  {
   "cell_type": "code",
   "execution_count": null,
   "id": "213d8f08-f7e2-4afa-8e8d-f8cbedf89220",
   "metadata": {
    "execution": {
     "iopub.execute_input": "2023-11-23T15:17:20.290157Z",
     "iopub.status.busy": "2023-11-23T15:17:20.289156Z",
     "iopub.status.idle": "2023-11-23T15:17:20.312158Z",
     "shell.execute_reply": "2023-11-23T15:17:20.311161Z",
     "shell.execute_reply.started": "2023-11-23T15:17:20.290157Z"
    }
   },
   "outputs": [],
   "source": [
    "d['eval_rf_0_1'], d['eval_rf_1_65'], d['eval_rf_2818_2882'], d['eval_rf_0_5634']"
   ]
  },
  {
   "cell_type": "code",
   "execution_count": null,
   "id": "e54c2367-c217-45c6-b039-0e6c0b5b4e90",
   "metadata": {
    "execution": {
     "iopub.execute_input": "2023-11-23T15:43:55.684301Z",
     "iopub.status.busy": "2023-11-23T15:43:55.684301Z",
     "iopub.status.idle": "2023-11-23T15:43:55.705337Z",
     "shell.execute_reply": "2023-11-23T15:43:55.704250Z",
     "shell.execute_reply.started": "2023-11-23T15:43:55.684301Z"
    }
   },
   "outputs": [],
   "source": [
    "column_selection = {\n",
    "    ds:{n_best:{'strategy_name': [], 'column_idxs': [], 'strategy_desc':[]} for n_best in [20, 64, 128]} \\\n",
    "    for ds in datasets\n",
    "}"
   ]
  },
  {
   "cell_type": "markdown",
   "id": "03dc2a16-b36b-44bb-8252-82e0aab827a8",
   "metadata": {},
   "source": [
    "## Select columns idx by highest std ratio"
   ]
  },
  {
   "cell_type": "markdown",
   "id": "ac9529ca-067c-4877-a2f9-66c5f3e215a7",
   "metadata": {},
   "source": [
    "select best by the ratio of feature standard deviation:"
   ]
  },
  {
   "cell_type": "code",
   "execution_count": null,
   "id": "0aa3c4ec-f85f-4424-be8b-9cb58bd465b4",
   "metadata": {
    "execution": {
     "iopub.execute_input": "2023-11-23T15:43:56.114225Z",
     "iopub.status.busy": "2023-11-23T15:43:56.113170Z",
     "iopub.status.idle": "2023-11-23T15:44:05.261614Z",
     "shell.execute_reply": "2023-11-23T15:44:05.260556Z",
     "shell.execute_reply.started": "2023-11-23T15:43:56.114225Z"
    }
   },
   "outputs": [],
   "source": [
    "for ds in column_selection:\n",
    "    p = data_root/'features'/ds\n",
    "    \n",
    "    for pi in p.glob('features_sample_*k.pckl'):\n",
    "        #print(pi)\n",
    "        d = load_pckl(pi)\n",
    "        break # should be just one anyway\n",
    "    column_selection_ds = column_selection[ds]\n",
    "\n",
    "    x_all = d['X_train_all']\n",
    "    y_all = d['y_train']\n",
    "    \n",
    "    ls = [1, 2, 3]\n",
    "    masks = {l: y_all==l for l in ls}\n",
    "\n",
    "    #std difference:\n",
    "    \n",
    "    x_std = {l: x_all[masks[l]].std(axis=0) for l in ls}\n",
    "    \n",
    "    s_to_b_std = x_std[2]/x_std[1]\n",
    "    s_to_e_std = x_std[2]/x_std[3]\n",
    "\n",
    "    s_to_b_std[x_std[1]==0] = 0\n",
    "    s_to_e_std[x_std[3]==0] = 0\n",
    "\n",
    "    # 1. find largest in each group\n",
    "    sorting_idx_s_to_b_std = np.argsort(s_to_b_std)[::-1]\n",
    "    sorting_idx_s_to_e_std = np.argsort(s_to_e_std)[::-1]\n",
    "    \n",
    "    for n, column_selection_ds_n in column_selection_ds.items():\n",
    "        names = [f'std_ratio_sig_to_bg', f'std_ratio_sig_to_edge']\n",
    "        descs = ['largest ratio of channel values std in signal region to std in background region', \n",
    "                 'largest ratio of channel values std in signal region to std in edge region']\n",
    "        idxs_arrs = [sorting_idx_s_to_b_std, sorting_idx_s_to_e_std]\n",
    "        for name, desc, idxs in zip(names, descs, idxs_arrs):\n",
    "            sel_idxs = idxs[:n]\n",
    "            column_selection_ds_n['strategy_name'].append(name)\n",
    "            column_selection_ds_n['column_idxs'].append(sel_idxs)\n",
    "            column_selection_ds_n['strategy_desc'].append(desc)"
   ]
  },
  {
   "cell_type": "markdown",
   "id": "d45a3abb-3daf-4b8e-aee3-447d67e35a2b",
   "metadata": {},
   "source": [
    "## Select columns idx by highest Shaps"
   ]
  },
  {
   "cell_type": "markdown",
   "id": "26d40916-4f83-4095-a969-da7727a07772",
   "metadata": {},
   "source": [
    "select best by the ratio of feature standard deviation:"
   ]
  },
  {
   "cell_type": "code",
   "execution_count": null,
   "id": "70ae215b-a840-4bc4-9234-f5ce53211cb8",
   "metadata": {
    "execution": {
     "iopub.execute_input": "2023-11-23T15:44:05.265547Z",
     "iopub.status.busy": "2023-11-23T15:44:05.265547Z",
     "iopub.status.idle": "2023-11-23T15:44:16.609370Z",
     "shell.execute_reply": "2023-11-23T15:44:16.607281Z",
     "shell.execute_reply.started": "2023-11-23T15:44:05.265547Z"
    }
   },
   "outputs": [],
   "source": [
    "aggregated_shaps = {}\n",
    "\n",
    "for ds in column_selection:\n",
    "    p = data_root/'features'/ds\n",
    "    \n",
    "    for pi in p.glob('features_sample_*k.pckl'):\n",
    "        #print(pi)\n",
    "        d = load_pckl(pi)\n",
    "        break # should be just one anyway\n",
    "    column_selection_ds = column_selection[ds]\n",
    "\n",
    "    for k in d:\n",
    "        prfx = 'shap_rf_'\n",
    "        if prfx not in k:\n",
    "            continue\n",
    "\n",
    "        start_idx, end_idx = [int(v) for v in k.replace(prfx, '').split('_')]\n",
    "        all_shaps = np.array(d[k])\n",
    "\n",
    "        if k not in aggregated_shaps:\n",
    "            aggregated_shaps[k] = []  # order will be DS_CLASS_SAMPLE_CHANNEL, to be concatenated by sample\n",
    "        aggregated_shaps[k].append(all_shaps)\n",
    "        \n",
    "        per_idx_mean_shap = np.abs(all_shaps).sum(axis=0).mean(axis=0)\n",
    "        \n",
    "        sorting_block_idx_shaps = np.argsort(per_idx_mean_shap)[::-1]\n",
    "        sorting_idx_shaps = sorting_block_idx_shaps + start_idx\n",
    "\n",
    "        for n, column_selection_ds_n in column_selection_ds.items():\n",
    "            name = f'shaps_{start_idx}_{end_idx}'\n",
    "            desc = f'largest shaps in block {start_idx} to {end_idx}'\n",
    "            sel_idxs = sorting_idx_shaps[:n]\n",
    "            \n",
    "            column_selection_ds_n['strategy_name'].append(name)\n",
    "            column_selection_ds_n['column_idxs'].append(sel_idxs)\n",
    "            column_selection_ds_n['strategy_desc'].append(desc)"
   ]
  },
  {
   "cell_type": "markdown",
   "id": "7988f4fc-ed3b-426e-a102-28e310926543",
   "metadata": {},
   "source": [
    "## Select columns idx by highest Shaps averaged by all datasets"
   ]
  },
  {
   "cell_type": "markdown",
   "id": "820fccac-70e9-4807-b097-99b5246e1a76",
   "metadata": {},
   "source": [
    "select best by the ratio of feature standard deviation:"
   ]
  },
  {
   "cell_type": "code",
   "execution_count": null,
   "id": "c2e5ef3d-3994-47e4-82c4-11a26f43af73",
   "metadata": {
    "execution": {
     "iopub.execute_input": "2023-11-23T15:44:16.612299Z",
     "iopub.status.busy": "2023-11-23T15:44:16.611365Z",
     "iopub.status.idle": "2023-11-23T15:44:20.940109Z",
     "shell.execute_reply": "2023-11-23T15:44:20.939598Z",
     "shell.execute_reply.started": "2023-11-23T15:44:16.612299Z"
    }
   },
   "outputs": [],
   "source": [
    "for k in aggregated_shaps:\n",
    "    prfx = 'shap_rf_'\n",
    "    if prfx not in k:\n",
    "        continue\n",
    "\n",
    "    start_idx, end_idx = [int(v) for v in k.replace(prfx, '').split('_')]\n",
    "    all_shaps = aggregated_shaps[k]  # axes order will be DS_CLASS_SAMPLE_CHANNEL, to be concatenated by sample\n",
    "    all_shaps = np.concatenate(all_shaps, axis=1)\n",
    "    \n",
    "    per_idx_mean_shap = np.abs(all_shaps).sum(axis=0).mean(axis=0)\n",
    "    \n",
    "    sorting_block_idx_shaps = np.argsort(per_idx_mean_shap)[::-1]\n",
    "    sorting_idx_shaps = sorting_block_idx_shaps + start_idx\n",
    "\n",
    "    for ds in column_selection:\n",
    "        column_selection_ds = column_selection[ds]\n",
    "    \n",
    "        for n, column_selection_ds_n in column_selection_ds.items():\n",
    "            name = f'agg_shaps_{start_idx}_{end_idx}'\n",
    "            desc = f'largest aggregated over datasets shaps in block {start_idx} to {end_idx}'\n",
    "            \n",
    "            sel_idxs = sorting_idx_shaps[:n]\n",
    "            \n",
    "            column_selection_ds_n['strategy_name'].append(name)\n",
    "            column_selection_ds_n['column_idxs'].append(sel_idxs)\n",
    "            column_selection_ds_n['strategy_desc'].append(desc)"
   ]
  },
  {
   "cell_type": "markdown",
   "id": "5cf4c8a0-5a2c-4272-a28c-eb722296cf94",
   "metadata": {},
   "source": [
    "## Select random columns idx from all or first layer + input"
   ]
  },
  {
   "cell_type": "code",
   "execution_count": null,
   "id": "c49ae1d4-4828-4822-b45f-d1e1b9af0f91",
   "metadata": {
    "execution": {
     "iopub.execute_input": "2023-11-23T15:44:20.942290Z",
     "iopub.status.busy": "2023-11-23T15:44:20.942290Z",
     "iopub.status.idle": "2023-11-23T15:44:20.956393Z",
     "shell.execute_reply": "2023-11-23T15:44:20.955389Z",
     "shell.execute_reply.started": "2023-11-23T15:44:20.942290Z"
    }
   },
   "outputs": [],
   "source": [
    "blocks"
   ]
  },
  {
   "cell_type": "code",
   "execution_count": null,
   "id": "8bc32fed-3491-4ab6-8533-76e48bb041e0",
   "metadata": {
    "execution": {
     "iopub.execute_input": "2023-11-23T15:44:20.958630Z",
     "iopub.status.busy": "2023-11-23T15:44:20.958630Z",
     "iopub.status.idle": "2023-11-23T15:44:20.972112Z",
     "shell.execute_reply": "2023-11-23T15:44:20.971108Z",
     "shell.execute_reply.started": "2023-11-23T15:44:20.958630Z"
    }
   },
   "outputs": [],
   "source": [
    "block_first_all_raw_idx = [0, 1, 6, 12, 17]\n",
    "block_first_raw_idx = [0, 1, 12]\n"
   ]
  },
  {
   "cell_type": "code",
   "execution_count": null,
   "id": "57146ea5-8267-4c29-96fb-67dc7078faff",
   "metadata": {
    "execution": {
     "iopub.execute_input": "2023-11-23T15:44:20.974281Z",
     "iopub.status.busy": "2023-11-23T15:44:20.973109Z",
     "iopub.status.idle": "2023-11-23T15:44:20.987245Z",
     "shell.execute_reply": "2023-11-23T15:44:20.986248Z",
     "shell.execute_reply.started": "2023-11-23T15:44:20.974281Z"
    }
   },
   "outputs": [],
   "source": [
    " csb  # cumsum"
   ]
  },
  {
   "cell_type": "code",
   "execution_count": null,
   "id": "a90f5fd5-d8bb-4c54-84e9-dc145874ef89",
   "metadata": {
    "execution": {
     "iopub.execute_input": "2023-11-23T15:44:20.989248Z",
     "iopub.status.busy": "2023-11-23T15:44:20.989248Z",
     "iopub.status.idle": "2023-11-23T15:44:21.002212Z",
     "shell.execute_reply": "2023-11-23T15:44:21.001215Z",
     "shell.execute_reply.started": "2023-11-23T15:44:20.989248Z"
    }
   },
   "outputs": [],
   "source": [
    "first_and_raw_idx = []\n",
    "begins = [csb[:-1][i] for i in block_first_raw_idx]\n",
    "ends =   [csb[1:][i] for i in block_first_raw_idx]\n",
    "for b, e in zip(begins, ends):\n",
    "    first_and_raw_idx.extend(list(range(b, e)))\n",
    "\n",
    "first_all_and_raw_idx = []\n",
    "begins = [csb[:-1][i] for i in block_first_all_raw_idx]\n",
    "ends =   [csb[1:][i] for i in block_first_all_raw_idx]\n",
    "for b, e in zip(begins, ends):\n",
    "    first_all_and_raw_idx.extend(list(range(b, e)))\n",
    "\n",
    "\n"
   ]
  },
  {
   "cell_type": "code",
   "execution_count": null,
   "id": "766a5d26-d1fc-411a-988d-d6da690343c5",
   "metadata": {
    "execution": {
     "iopub.execute_input": "2023-11-23T15:44:21.003722Z",
     "iopub.status.busy": "2023-11-23T15:44:21.003722Z",
     "iopub.status.idle": "2023-11-23T15:44:21.017858Z",
     "shell.execute_reply": "2023-11-23T15:44:21.016860Z",
     "shell.execute_reply.started": "2023-11-23T15:44:21.003722Z"
    }
   },
   "outputs": [],
   "source": [
    "len(first_and_raw_idx), len(first_all_and_raw_idx)"
   ]
  },
  {
   "cell_type": "code",
   "execution_count": null,
   "id": "8eab49af-4804-44a0-812d-844439d1e6b0",
   "metadata": {
    "execution": {
     "iopub.execute_input": "2023-11-23T15:44:21.018863Z",
     "iopub.status.busy": "2023-11-23T15:44:21.018863Z",
     "iopub.status.idle": "2023-11-23T15:44:21.034402Z",
     "shell.execute_reply": "2023-11-23T15:44:21.033402Z",
     "shell.execute_reply.started": "2023-11-23T15:44:21.018863Z"
    }
   },
   "outputs": [],
   "source": [
    "descs = ['raw+random form 1st layer', 'raw+random form 1st layer all scales']\n",
    "names = ['raw_rnd_l1', 'raw_rnd_all_l1']\n",
    "idxs = [first_and_raw_idx, first_all_and_raw_idx]\n",
    "for desc, name, idx in zip(descs, names, idxs):\n",
    "    ord_idx = [idx[0]]\n",
    "    rnd_src_idx = idx[1:]\n",
    "    rnd_idx = list(np.random.permutation(rnd_src_idx))\n",
    "    ord_idx.extend(rnd_idx)\n",
    "    \n",
    "    for ds in column_selection:\n",
    "        column_selection_ds = column_selection[ds]\n",
    "    \n",
    "        for n, column_selection_ds_n in column_selection_ds.items():\n",
    "            sel_idxs = ord_idx[:n]\n",
    "            \n",
    "            column_selection_ds_n['strategy_name'].append(name)\n",
    "            column_selection_ds_n['column_idxs'].append(sel_idxs)\n",
    "            column_selection_ds_n['strategy_desc'].append(desc)"
   ]
  },
  {
   "cell_type": "markdown",
   "id": "a80ac588-d2c6-4ac9-944e-2c34a2486730",
   "metadata": {},
   "source": [
    "# Save selected idx_dict"
   ]
  },
  {
   "cell_type": "code",
   "execution_count": null,
   "id": "69660574-d518-4385-a57c-43b23c5b9deb",
   "metadata": {
    "execution": {
     "iopub.execute_input": "2023-11-23T15:44:21.037395Z",
     "iopub.status.busy": "2023-11-23T15:44:21.037395Z",
     "iopub.status.idle": "2023-11-23T15:44:21.066636Z",
     "shell.execute_reply": "2023-11-23T15:44:21.064629Z",
     "shell.execute_reply.started": "2023-11-23T15:44:21.037395Z"
    }
   },
   "outputs": [],
   "source": [
    "save_pckl(column_selection, data_root/'features'/'selected_idx.pckl')"
   ]
  },
  {
   "cell_type": "code",
   "execution_count": null,
   "id": "e5db56f2-1c3e-4d0b-898d-fe280e3512bf",
   "metadata": {
    "execution": {
     "iopub.execute_input": "2023-11-23T15:44:21.069694Z",
     "iopub.status.busy": "2023-11-23T15:44:21.068631Z",
     "iopub.status.idle": "2023-11-23T15:44:21.081601Z",
     "shell.execute_reply": "2023-11-23T15:44:21.079601Z",
     "shell.execute_reply.started": "2023-11-23T15:44:21.069694Z"
    }
   },
   "outputs": [],
   "source": [
    "#column_selection"
   ]
  },
  {
   "cell_type": "markdown",
   "id": "ed15bf29-60cc-4c9e-afc4-22c25903b9dd",
   "metadata": {
    "execution": {
     "iopub.execute_input": "2023-11-23T15:19:59.478300Z",
     "iopub.status.busy": "2023-11-23T15:19:59.477152Z",
     "iopub.status.idle": "2023-11-23T15:19:59.483843Z",
     "shell.execute_reply": "2023-11-23T15:19:59.482970Z",
     "shell.execute_reply.started": "2023-11-23T15:19:59.478300Z"
    }
   },
   "source": [
    "# Evaluation of subsetting strategies"
   ]
  },
  {
   "cell_type": "code",
   "execution_count": null,
   "id": "80a3b786-9800-489d-a077-2c9a945b53a5",
   "metadata": {
    "execution": {
     "iopub.execute_input": "2023-11-23T16:06:37.351355Z",
     "iopub.status.busy": "2023-11-23T16:06:37.350292Z",
     "iopub.status.idle": "2023-11-23T16:06:37.371911Z",
     "shell.execute_reply": "2023-11-23T16:06:37.370913Z",
     "shell.execute_reply.started": "2023-11-23T16:06:37.351355Z"
    }
   },
   "outputs": [],
   "source": [
    "column_selection = load_pckl(data_root/'features'/'selected_idx.pckl')"
   ]
  },
  {
   "cell_type": "code",
   "execution_count": null,
   "id": "7475856b-2ea0-4911-b166-629ac9877ad6",
   "metadata": {
    "execution": {
     "iopub.execute_input": "2023-11-23T16:06:37.922700Z",
     "iopub.status.busy": "2023-11-23T16:06:37.922700Z",
     "iopub.status.idle": "2023-11-23T16:06:37.929163Z",
     "shell.execute_reply": "2023-11-23T16:06:37.928161Z",
     "shell.execute_reply.started": "2023-11-23T16:06:37.922700Z"
    }
   },
   "outputs": [],
   "source": [
    "def call_back_per_ds(x_tra, y_tra, x_val, y_val, cond_desc, cond_name):\n",
    "    print(cond_name)\n",
    "    # should return metrics dict\n",
    "    clf_rf = RandomForestClassifier(n_estimators=100, n_jobs=8)\n",
    "    clf_rf.fit(X=x_tra, y=y_tra)\n",
    "\n",
    "    m = eval_model(clf_rf, x_val, y_val)\n",
    "    return m"
   ]
  },
  {
   "cell_type": "code",
   "execution_count": null,
   "id": "a185cd19-6d22-481b-9e4b-8eb710fff3bf",
   "metadata": {
    "execution": {
     "iopub.execute_input": "2023-11-23T16:06:38.495218Z",
     "iopub.status.busy": "2023-11-23T16:06:38.494158Z",
     "iopub.status.idle": "2023-11-23T16:55:04.950352Z",
     "shell.execute_reply": "2023-11-23T16:55:04.950352Z",
     "shell.execute_reply.started": "2023-11-23T16:06:38.495218Z"
    },
    "scrolled": true
   },
   "outputs": [],
   "source": [
    "for ds, column_selection_ds in column_selection.items():\n",
    "    p = data_root/'features'/ds\n",
    "    \n",
    "    for pi in p.glob('features_sample_*k.pckl'):\n",
    "        #print(pi)\n",
    "        d = load_pckl(pi)\n",
    "        break # should be just one anyway\n",
    "\n",
    "    x_tra_all = d['X_train_all']\n",
    "    x_val_all = d['X_val_all']\n",
    "    y_tra = d['y_train']\n",
    "    y_val = d['y_val']\n",
    "\n",
    "    std = x_tra_all.std(axis=0)\n",
    "    x_tra_v = x_tra_all[:, std>0]\n",
    "    x_val_v = x_val_all[:, std>0]\n",
    "    \n",
    "    scaler = StandardScaler()\n",
    "    x_tra_vn = scaler.fit_transform(x_tra_v)\n",
    "    x_val_vn = scaler.transform(x_val_v)\n",
    "    \n",
    "    # print(x_tra_all.shape, x_val_all.shape, y_tra.shape, y_val.shape)\n",
    "    \n",
    "    for n, column_selection_ds_n in column_selection_ds.items():\n",
    "        column_selection_ds_n['metrics'] = []\n",
    "        for name, sel_idxs, desc in zip(column_selection_ds_n['strategy_name'], \n",
    "                                        column_selection_ds_n['column_idxs'], \n",
    "                                        column_selection_ds_n['strategy_desc']\n",
    "                                       ):\n",
    "            x_tra = x_tra_all[:, sel_idxs]\n",
    "            x_val = x_val_all[:, sel_idxs]\n",
    "\n",
    "            m = call_back_per_ds(x_tra, y_tra, x_val, y_val, desc, f'{ds}, nf={n}: {name}')\n",
    "            column_selection_ds_n['metrics'].append(m)\n",
    "\n",
    "        # PCA part:\n",
    "        pca = PCA(n_components=n)\n",
    "        x_tra = pca.fit_transform(x_tra_vn)\n",
    "        x_val = pca.transform(x_val_vn)\n",
    "\n",
    "        desc = 'PCA of all features. Columns are not valid'\n",
    "        name = 'pca'\n",
    "        m = call_back_per_ds(x_tra, y_tra, x_val, y_val, desc, f'{ds}, nf={n}: {name}')\n",
    "        column_selection_ds_n['metrics'].append(m)\n",
    "        column_selection_ds_n['strategy_name'].append(name)\n",
    "        column_selection_ds_n['column_idxs'].append([])\n",
    "        column_selection_ds_n['strategy_desc'].append(desc)\n",
    "    "
   ]
  },
  {
   "cell_type": "code",
   "execution_count": null,
   "id": "1c8a9421-d55a-49c1-b024-3dc2de8f5b9e",
   "metadata": {
    "execution": {
     "iopub.execute_input": "2023-11-23T16:55:04.950352Z",
     "iopub.status.busy": "2023-11-23T16:55:04.950352Z",
     "iopub.status.idle": "2023-11-23T16:55:05.012646Z",
     "shell.execute_reply": "2023-11-23T16:55:05.012646Z",
     "shell.execute_reply.started": "2023-11-23T16:55:04.950352Z"
    }
   },
   "outputs": [],
   "source": [
    "save_pckl(column_selection, data_root/'features'/'selected_idx_evaluated.pckl')"
   ]
  },
  {
   "cell_type": "code",
   "execution_count": null,
   "id": "f18b130d-f697-4c57-a1bf-b894abeeaa6c",
   "metadata": {
    "execution": {
     "iopub.execute_input": "2023-11-27T12:20:32.845764Z",
     "iopub.status.busy": "2023-11-27T12:20:32.844700Z",
     "iopub.status.idle": "2023-11-27T12:20:32.857246Z",
     "shell.execute_reply": "2023-11-27T12:20:32.856309Z",
     "shell.execute_reply.started": "2023-11-27T12:20:32.845764Z"
    }
   },
   "outputs": [],
   "source": [
    "column_selection['actin'][20]['strategy_name']"
   ]
  }
 ],
 "metadata": {
  "kernelspec": {
   "display_name": "Python 3 (ipykernel)",
   "language": "python",
   "name": "python3"
  },
  "language_info": {
   "codemirror_mode": {
    "name": "ipython",
    "version": 3
   },
   "file_extension": ".py",
   "mimetype": "text/x-python",
   "name": "python",
   "nbconvert_exporter": "python",
   "pygments_lexer": "ipython3",
   "version": "3.10.12"
  }
 },
 "nbformat": 4,
 "nbformat_minor": 5
}
