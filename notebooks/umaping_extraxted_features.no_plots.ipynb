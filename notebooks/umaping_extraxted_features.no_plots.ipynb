{
 "cells": [
  {
   "cell_type": "markdown",
   "source": [
    "# UMAP feature embedding"
   ],
   "metadata": {
    "collapsed": false
   },
   "id": "9e2260c4ce352f45"
  },
  {
   "cell_type": "markdown",
   "source": [
    "In this notebook we will use UMAP to visualize the embeddings of the features of the different datasets and feature extracted from different layers of the model.\n",
    "We will visualize the three future classes distributions in the embedding space - background, foreground and border."
   ],
   "metadata": {
    "collapsed": false
   },
   "id": "1c77dc1ddea0c7cf"
  },
  {
   "cell_type": "markdown",
   "source": [
    "# Imports"
   ],
   "metadata": {
    "collapsed": false
   },
   "id": "b96130ef168f5ea2"
  },
  {
   "cell_type": "code",
   "execution_count": null,
   "id": "42363ad6",
   "metadata": {
    "execution": {
     "iopub.execute_input": "2023-10-19T16:59:38.054706Z",
     "iopub.status.busy": "2023-10-19T16:59:38.054706Z",
     "iopub.status.idle": "2023-10-19T16:59:49.810387Z",
     "shell.execute_reply": "2023-10-19T16:59:49.808869Z",
     "shell.execute_reply.started": "2023-10-19T16:59:38.054706Z"
    }
   },
   "outputs": [],
   "source": [
    "import umap\n",
    "import umap.plot\n",
    "\n",
    "import pandas as pd\n",
    "import numpy as np\n",
    "\n",
    "import matplotlib.pyplot as plt\n",
    "\n",
    "import pickle\n",
    "import pathlib as pl\n",
    "import os"
   ]
  },
  {
   "cell_type": "markdown",
   "source": [
    "# Utils"
   ],
   "metadata": {
    "collapsed": false
   },
   "id": "2b8cc199cd5de97d"
  },
  {
   "cell_type": "code",
   "execution_count": null,
   "id": "5e8d7f9c",
   "metadata": {
    "execution": {
     "iopub.execute_input": "2023-10-19T16:59:49.812389Z",
     "iopub.status.busy": "2023-10-19T16:59:49.811390Z",
     "iopub.status.idle": "2023-10-19T16:59:49.825763Z",
     "shell.execute_reply": "2023-10-19T16:59:49.824765Z",
     "shell.execute_reply.started": "2023-10-19T16:59:49.812389Z"
    }
   },
   "outputs": [],
   "source": [
    "def load_pckl(file_name, path=None):\n",
    "    if path is not None:\n",
    "        file_name = os.path.join(path, file_name)\n",
    "\n",
    "    with open(file_name, 'rb') as f:\n",
    "        data = pickle.load(f)\n",
    "    return data\n",
    "\n",
    "\n",
    "def save_pckl(d, file_name, pr=None, path=None):\n",
    "    if path is not None:\n",
    "        file_name = os.path.join(path, file_name)\n",
    "\n",
    "    with open(file_name, 'wb') as f:\n",
    "        pickle.dump(d, f, protocol=pr if pr is not None else pickle.DEFAULT_PROTOCOL)"
   ]
  },
  {
   "cell_type": "code",
   "execution_count": null,
   "id": "a91d195a",
   "metadata": {
    "execution": {
     "iopub.execute_input": "2023-10-19T16:59:49.826765Z",
     "iopub.status.busy": "2023-10-19T16:59:49.826765Z",
     "iopub.status.idle": "2023-10-19T16:59:49.843241Z",
     "shell.execute_reply": "2023-10-19T16:59:49.841242Z",
     "shell.execute_reply.started": "2023-10-19T16:59:49.826765Z"
    }
   },
   "outputs": [],
   "source": [
    "data_root = pl.Path(r'D:\\Projects_MV\\conv_paint\\data')"
   ]
  },
  {
   "cell_type": "markdown",
   "source": [
    "# Load data"
   ],
   "metadata": {
    "collapsed": false
   },
   "id": "7910aaac57a51449"
  },
  {
   "cell_type": "code",
   "execution_count": null,
   "id": "75cd37ed",
   "metadata": {
    "execution": {
     "iopub.execute_input": "2023-10-19T16:59:49.846235Z",
     "iopub.status.busy": "2023-10-19T16:59:49.846235Z",
     "iopub.status.idle": "2023-10-19T16:59:49.858268Z",
     "shell.execute_reply": "2023-10-19T16:59:49.857268Z",
     "shell.execute_reply.started": "2023-10-19T16:59:49.846235Z"
    }
   },
   "outputs": [],
   "source": [
    "datasets = [ 'actin', 'fret', 'nuclei', 'spindle', 'worms', 'worms2']\n",
    "ds = datasets[0]"
   ]
  },
  {
   "cell_type": "markdown",
   "source": [
    "We will define sizes of the blocks of the features, as well as the cumulative sum of the blocks. "
   ],
   "metadata": {
    "collapsed": false
   },
   "id": "f8760a3b62ee0509"
  },
  {
   "cell_type": "code",
   "execution_count": null,
   "id": "e93abaf2",
   "metadata": {
    "editable": true,
    "execution": {
     "iopub.execute_input": "2023-10-19T16:59:49.891753Z",
     "iopub.status.busy": "2023-10-19T16:59:49.890755Z",
     "iopub.status.idle": "2023-10-19T16:59:49.905224Z",
     "shell.execute_reply": "2023-10-19T16:59:49.904225Z",
     "shell.execute_reply.started": "2023-10-19T16:59:49.891753Z"
    },
    "slideshow": {
     "slide_type": ""
    },
    "tags": []
   },
   "outputs": [],
   "source": [
    "blocks = [1, 64, 64, 256, 512, 512, 64, 64, 256, 512, 512, 1, 64, 64, 256, 512, 512, 64, 64, 256, 512, 512]"
   ]
  },
  {
   "cell_type": "code",
   "execution_count": null,
   "id": "3469c243",
   "metadata": {
    "editable": true,
    "execution": {
     "iopub.execute_input": "2023-10-19T16:59:49.907219Z",
     "iopub.status.busy": "2023-10-19T16:59:49.906221Z",
     "iopub.status.idle": "2023-10-19T16:59:49.921340Z",
     "shell.execute_reply": "2023-10-19T16:59:49.920343Z",
     "shell.execute_reply.started": "2023-10-19T16:59:49.907219Z"
    },
    "slideshow": {
     "slide_type": ""
    },
    "tags": []
   },
   "outputs": [],
   "source": [
    "sum(blocks)"
   ]
  },
  {
   "cell_type": "code",
   "execution_count": null,
   "id": "d16f40da-601f-4723-b6fd-4f8ccbe3a253",
   "metadata": {
    "editable": true,
    "execution": {
     "iopub.execute_input": "2023-10-19T16:59:49.922340Z",
     "iopub.status.busy": "2023-10-19T16:59:49.922340Z",
     "iopub.status.idle": "2023-10-19T16:59:49.936819Z",
     "shell.execute_reply": "2023-10-19T16:59:49.935817Z",
     "shell.execute_reply.started": "2023-10-19T16:59:49.922340Z"
    },
    "slideshow": {
     "slide_type": ""
    },
    "tags": []
   },
   "outputs": [],
   "source": [
    "csb = np.cumsum([0]+blocks)\n",
    "csb = list(csb)"
   ]
  },
  {
   "cell_type": "markdown",
   "source": [
    "This code block does everything in one go. \n",
    "1. Load the features and targets, concatenate them\n",
    "2. Randomly sample n_sample samples. Here try two options - 200k and 50k samples. \n",
    "3. For each block of features as well as for all features together, perform 2D UMAP embedding\n",
    "4. visualize the embedding:\n",
    "    a. points visualization with color coding of the classes by UMAP plot\n",
    "    b. local dim visualization by UMAP plot\n",
    "    c. normal scatter plot of the embedding with color coding of the classes\n",
    "5. Save the plots\n",
    "6. Save the embedded dataset `d_emb` as a pickle file which includes\n",
    "    a. subsampled features\n",
    "    b. subsampled labels\n",
    "    c. blocks sizes\n",
    "    d. embeddings for each block and for all features together"
   ],
   "metadata": {
    "collapsed": false
   },
   "id": "816b638f71d7f326"
  },
  {
   "cell_type": "code",
   "execution_count": null,
   "id": "bef8bee4",
   "metadata": {
    "editable": true,
    "execution": {
     "iopub.execute_input": "2023-10-25T13:59:23.667913Z",
     "iopub.status.busy": "2023-10-25T13:59:23.666979Z",
     "iopub.status.idle": "2023-11-03T14:23:28.765827Z",
     "shell.execute_reply": "2023-11-03T14:23:28.765827Z",
     "shell.execute_reply.started": "2023-10-25T13:59:23.667913Z"
    },
    "scrolled": true,
    "slideshow": {
     "slide_type": ""
    },
    "tags": []
   },
   "outputs": [],
   "source": [
    "n_sample_opt = [200000, 50000]\n",
    "n_neighbors_opt = [300, 300]\n",
    "\n",
    "for n_sample, n_neighbors in zip(n_sample_opt, n_neighbors_opt):\n",
    "    plot_scale = 7\n",
    "    \n",
    "    cmap = plt.get_cmap('jet', lut=3)\n",
    "    \n",
    "    for ds in datasets[3:]:\n",
    "        p = data_root/'features'/ds\n",
    "        all_features_all_samples = []\n",
    "    \n",
    "        all_targets_all_samples = []\n",
    "    \n",
    "        for pi in p.glob('features_*.pckl'):\n",
    "            # print(pi)\n",
    "            #try:\n",
    "            if '_sample_' in str(pi):\n",
    "                continue\n",
    "            d = load_pckl(pi)\n",
    "            #except Exception as e:\n",
    "            #    continue\n",
    "            # print(d['features'][0].shape)\n",
    "            features_all_samples, targets_all_samples, feature_info = d['features'][0], d['targets'][0], d['feature_info']\n",
    "            all_features_all_samples.append(np.asarray(features_all_samples))\n",
    "            all_targets_all_samples.append(np.asarray(targets_all_samples))\n",
    "    \n",
    "    \n",
    "        all_features_all_samples = np.concatenate(all_features_all_samples, axis=0)\n",
    "        all_targets_all_samples = np.concatenate(all_targets_all_samples, axis=0)\n",
    "        print(f'all_features_all_samples.shape={all_features_all_samples.shape}; all_targets_all_samples.shape={all_targets_all_samples.shape}')\n",
    "        \n",
    "        n = len(all_features_all_samples)\n",
    "        n_ss = min(n_sample, n)\n",
    "        idx_all = np.random.permutation(n)\n",
    "    \n",
    "        idx = idx_all[:n_ss]\n",
    "    \n",
    "    \n",
    "        f = all_features_all_samples[idx]\n",
    "        l = all_targets_all_samples[idx]\n",
    "    \n",
    "        d_emb = {\n",
    "            'f':f,\n",
    "            'l': l,\n",
    "            'blocks': blocks\n",
    "        }\n",
    "        for b, e in zip(csb[0:-1]+[csb[0]], csb[1:]+[csb[-1]]):  # last = all channels together\n",
    "            subset = f[:, b:e]\n",
    "            print(ds, b, e, subset.shape)\n",
    "            mapper_1 = umap.UMAP(n_neighbors=n_neighbors, verbose=True, low_memory=True).fit(subset)\n",
    "            emb = mapper_1.embedding_.copy()\n",
    "            d_emb[f'emb_{b}_{e}'] = emb\n",
    "            \n",
    "            fig, ax = plt.subplots(nrows=1, ncols=3, figsize=(3*plot_scale, plot_scale))\n",
    "            try:\n",
    "                #umap.plot.show(umap.plot.points(mapper_1, labels=l, theme='fire'))\n",
    "                umap.plot.points(mapper_1, labels=l, theme='fire', ax=ax[0])\n",
    "            except Exception as ex:\n",
    "                print(ex)\n",
    "                \n",
    "            try:\n",
    "                #umap.plot.show(umap.plot.diagnostic(mapper_1, diagnostic_type='local_dim'))\n",
    "                umap.plot.diagnostic(mapper_1, diagnostic_type='local_dim', ax=ax[1])\n",
    "            except Exception as ex:\n",
    "                print(ex)\n",
    "    \n",
    "            sc = ax[2].scatter(*emb.T, c=(l-1), cmap=cmap, s=3)  # Adjust s to control dot size\n",
    "            cbar = plt.colorbar(sc, ax=ax[2])\n",
    "            cbar.set_label(\"Class\")\n",
    "            \n",
    "            ax[0].set_title(\"Embedding Points\")\n",
    "            ax[1].set_title(\"Local dim\")\n",
    "            ax[2].set_title(\"Embedding Scatter\")\n",
    "\n",
    "            fib = feature_info[b]\n",
    "            fie = feature_info[e-1]\n",
    "            # assert fib[4] == fie[4]\n",
    "            ttl = fib[1].replace(f'_{fib[0]}', '')\n",
    "            plt.suptitle(ttl)\n",
    "            plt.tight_layout(h_pad=0, w_pad=1)\n",
    "            \n",
    "            plt.savefig(p/f\"plots_emb_{n_sample//1000}k_{n_neighbors}nn_b{b:05d}_e{e:05d}.png\", dpi=300, bbox_inches='tight')\n",
    "            plt.savefig(p/f\"plots_emb_{n_sample//1000}k_{n_neighbors}nn_b{b:05d}_e{e:05d}.pdf\", dpi=300, bbox_inches='tight')\n",
    "            plt.show()\n",
    "            plt.close()\n",
    "\n",
    "            del mapper_1\n",
    "        \n",
    "        save_pckl(d_emb, f'embedding_sample_{n_sample//1000}k_{n_neighbors}nn.pckl', path=p.as_posix())\n",
    "        del d_emb"
   ]
  }
 ],
 "metadata": {
  "kernelspec": {
   "display_name": "Python 3 (ipykernel)",
   "language": "python",
   "name": "python3"
  },
  "language_info": {
   "codemirror_mode": {
    "name": "ipython",
    "version": 3
   },
   "file_extension": ".py",
   "mimetype": "text/x-python",
   "name": "python",
   "nbconvert_exporter": "python",
   "pygments_lexer": "ipython3",
   "version": "3.10.12"
  }
 },
 "nbformat": 4,
 "nbformat_minor": 5
}
