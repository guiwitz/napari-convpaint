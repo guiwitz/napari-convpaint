version https://git-lfs.github.com/spec/v1
oid sha256:06523890ad628aa2879ae64622b75be6e1408c55fd6957a41ed5c82b78f14044
size 69162713
