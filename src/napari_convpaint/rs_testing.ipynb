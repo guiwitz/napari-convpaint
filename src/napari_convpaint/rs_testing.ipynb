{
 "cells": [
  {
   "cell_type": "code",
   "execution_count": 19,
   "metadata": {},
   "outputs": [
    {
     "name": "stdout",
     "output_type": "stream",
     "text": [
      "The autoreload extension is already loaded. To reload it, use:\n",
      "  %reload_ext autoreload\n"
     ]
    }
   ],
   "source": [
    "%load_ext autoreload\n",
    "\n",
    "%autoreload 2\n",
    "import os\n",
    "import sys\n",
    "from napari_convpaint.conv_paint_utils import *\n",
    "from napari_convpaint.conv_paint_model import *"
   ]
  },
  {
   "cell_type": "code",
   "execution_count": 36,
   "metadata": {},
   "outputs": [
    {
     "name": "stdout",
     "output_type": "stream",
     "text": [
      "[[[3 1 2 0 1 2 1 3]\n",
      "  [3 3 2 1 2 2 0 1]\n",
      "  [1 3 2 2 1 0 1 2]\n",
      "  [3 2 0 1 1 2 3 0]\n",
      "  [2 0 2 1 1 2 2 0]\n",
      "  [3 3 1 2 0 0 0 1]\n",
      "  [2 0 0 1 0 2 3 3]\n",
      "  [1 1 0 3 0 2 2 0]]\n",
      "\n",
      " [[1 0 3 0 2 1 1 2]\n",
      "  [0 1 1 0 1 3 2 2]\n",
      "  [1 2 3 3 3 3 1 3]\n",
      "  [0 2 3 0 2 1 2 2]\n",
      "  [3 0 0 3 1 2 3 0]\n",
      "  [2 0 0 2 2 2 3 1]\n",
      "  [1 1 0 2 3 1 0 1]\n",
      "  [0 2 1 0 3 0 2 1]]\n",
      "\n",
      " [[0 3 0 1 3 1 2 3]\n",
      "  [2 3 3 0 2 3 1 2]\n",
      "  [3 1 2 2 0 0 1 2]\n",
      "  [2 0 0 2 2 0 2 2]\n",
      "  [0 1 1 3 1 1 0 1]\n",
      "  [1 3 2 0 1 0 3 1]\n",
      "  [2 2 0 1 1 2 3 0]\n",
      "  [2 3 0 2 0 0 2 1]]]\n"
     ]
    }
   ],
   "source": [
    "side_len = 8\n",
    "num_stacks = 3\n",
    "img = np.array([np.random.randint(4) for a in range(side_len**2 * num_stacks)]).reshape(num_stacks, side_len, side_len)\n",
    "print(img)"
   ]
  },
  {
   "cell_type": "code",
   "execution_count": 46,
   "metadata": {},
   "outputs": [
    {
     "name": "stdout",
     "output_type": "stream",
     "text": [
      "[[[2 1]\n",
      "  [0 0]]\n",
      "\n",
      " [[3 1]\n",
      "  [0 2]]\n",
      "\n",
      " [[0 0]\n",
      "  [1 1]]]\n"
     ]
    }
   ],
   "source": [
    "factor = 3\n",
    "scaled_img = scale_img(img, factor, use_labels=True)\n",
    "print(scaled_img)"
   ]
  },
  {
   "cell_type": "code",
   "execution_count": 50,
   "metadata": {},
   "outputs": [
    {
     "name": "stdout",
     "output_type": "stream",
     "text": [
      "[[1.015625 1.171875 1.171875 1.015625 0.859375 0.703125 0.703125 0.859375]\n",
      " [1.421875 1.640625 1.640625 1.421875 1.203125 0.984375 0.984375 1.203125]\n",
      " [1.421875 1.640625 1.640625 1.421875 1.203125 0.984375 0.984375 1.203125]\n",
      " [1.015625 1.171875 1.171875 1.015625 0.859375 0.703125 0.703125 0.859375]\n",
      " [0.609375 0.703125 0.703125 0.609375 0.515625 0.421875 0.421875 0.515625]\n",
      " [0.203125 0.234375 0.234375 0.203125 0.171875 0.140625 0.140625 0.171875]\n",
      " [0.203125 0.234375 0.234375 0.203125 0.171875 0.140625 0.140625 0.171875]\n",
      " [0.609375 0.703125 0.703125 0.609375 0.515625 0.421875 0.421875 0.515625]]\n"
     ]
    }
   ],
   "source": [
    "rescaled_img = rescale_features(scaled_img, img.shape)\n",
    "print(rescaled_img[0])"
   ]
  },
  {
   "cell_type": "code",
   "execution_count": 51,
   "metadata": {},
   "outputs": [
    {
     "name": "stdout",
     "output_type": "stream",
     "text": [
      "[[2 2 2 2 1 1 1 1]\n",
      " [2 2 2 2 1 1 1 1]\n",
      " [2 2 2 2 1 1 1 1]\n",
      " [2 2 2 2 1 1 1 1]\n",
      " [0 0 0 0 0 0 0 0]\n",
      " [0 0 0 0 0 0 0 0]\n",
      " [0 0 0 0 0 0 0 0]\n",
      " [0 0 0 0 0 0 0 0]]\n"
     ]
    }
   ],
   "source": [
    "rescaled_img = rescale_class_labels(scaled_img, img.shape)\n",
    "print(rescaled_img[0])"
   ]
  },
  {
   "cell_type": "code",
   "execution_count": 27,
   "metadata": {},
   "outputs": [
    {
     "name": "stdout",
     "output_type": "stream",
     "text": [
      "img: 16\n",
      "scaling factor: 3\n",
      "kernel: 3\n",
      "downscaled img: 5\n",
      "downscaled + kernel: 7\n",
      "scaled kernel: 9\n",
      "padded img: 24\n",
      "with scaled kernel: 8\n",
      "with scaled padding: 7\n"
     ]
    }
   ],
   "source": [
    "img_len = 16\n",
    "scaling_factor = 3\n",
    "kernel_size = 3\n",
    "down_scaled_img = img_len // scaling_factor\n",
    "scaled_kernel_size = kernel_size * scaling_factor\n",
    "scaled_padding = (kernel_size // 2) * scaling_factor\n",
    "padded_with_scaled_kernel = img_len + 2*(scaled_kernel_size//2)\n",
    "padded_with_scaled_padding = img_len + 2*scaled_padding\n",
    "down_scaled_padded_with_kernel = padded_with_scaled_kernel // scaling_factor\n",
    "down_scaled_padded_with_padding = padded_with_scaled_padding // scaling_factor\n",
    "print(\"img:\", img_len)\n",
    "print(\"scaling factor:\", scaling_factor)\n",
    "print(\"kernel:\", kernel_size)\n",
    "print(\"downscaled img:\", down_scaled_img)\n",
    "print(\"downscaled + kernel:\", down_scaled_img + 2*(kernel_size//2))\n",
    "print(\"scaled kernel:\", scaled_kernel_size)\n",
    "print(\"padded img:\", padded_with_scaled_kernel)\n",
    "print(\"with scaled kernel:\", down_scaled_padded_with_kernel)\n",
    "print(\"with scaled padding:\", down_scaled_padded_with_padding)"
   ]
  },
  {
   "cell_type": "code",
   "execution_count": 24,
   "metadata": {},
   "outputs": [
    {
     "name": "stdout",
     "output_type": "stream",
     "text": [
      "[[[[0 1 0 ... 0 3 1]\n",
      "   [0 3 2 ... 2 2 3]\n",
      "   [0 0 2 ... 2 1 2]\n",
      "   ...\n",
      "   [3 0 0 ... 0 1 3]\n",
      "   [1 3 1 ... 0 2 3]\n",
      "   [3 2 1 ... 0 2 2]]\n",
      "\n",
      "  [[3 2 0 ... 2 0 1]\n",
      "   [2 3 3 ... 2 0 0]\n",
      "   [1 0 2 ... 1 1 1]\n",
      "   ...\n",
      "   [2 1 2 ... 0 0 1]\n",
      "   [1 1 3 ... 2 2 0]\n",
      "   [0 2 0 ... 1 0 0]]\n",
      "\n",
      "  [[1 2 0 ... 2 1 3]\n",
      "   [0 1 2 ... 0 3 0]\n",
      "   [1 3 3 ... 1 3 1]\n",
      "   ...\n",
      "   [2 2 0 ... 1 0 3]\n",
      "   [2 3 3 ... 1 1 0]\n",
      "   [0 3 2 ... 3 1 1]]]]\n"
     ]
    }
   ],
   "source": [
    "side_len = 80\n",
    "num_stacks = 3\n",
    "img = np.array([np.random.randint(4) for a in range(side_len**2 * num_stacks)]).reshape(1, num_stacks, side_len, side_len)\n",
    "print(img)"
   ]
  },
  {
   "cell_type": "code",
   "execution_count": 37,
   "metadata": {},
   "outputs": [
    {
     "name": "stdout",
     "output_type": "stream",
     "text": [
      "(1, 5, 120, 100) (5, 120, 100)\n"
     ]
    }
   ],
   "source": [
    "kernel_size = (2, 5, 3)\n",
    "scale_factor = 10\n",
    "annots = np.zeros(img.shape[1:])\n",
    "padded_img = pad_for_kernel(img, kernel_size, scale_factor)\n",
    "padded_annots = pad_for_kernel(annots, kernel_size, scale_factor)\n",
    "print(padded_img.shape, padded_annots.shape)"
   ]
  },
  {
   "cell_type": "code",
   "execution_count": 55,
   "metadata": {},
   "outputs": [
    {
     "name": "stdout",
     "output_type": "stream",
     "text": [
      "(1, 3, 84, 81) (3, 84, 81)\n"
     ]
    }
   ],
   "source": [
    "patch_size = (3, 7, 3)\n",
    "scale_factor = 3\n",
    "annots = np.zeros(img.shape[1:])\n",
    "padded_img = pad_to_patch(img, patch_size, scale_factor)\n",
    "padded_annots = pad_to_patch(annots, patch_size, scale_factor)\n",
    "print(padded_img.shape, padded_annots.shape)"
   ]
  },
  {
   "cell_type": "code",
   "execution_count": null,
   "metadata": {},
   "outputs": [],
   "source": [
    "input_scaling = 3\n",
    "pre_process_stack(img, input_scaling, kernel_size, patch_size, scale_factor).shape"
   ]
  },
  {
   "cell_type": "code",
   "execution_count": 10,
   "metadata": {},
   "outputs": [
    {
     "data": {
      "text/plain": [
       "(6, 4, 13)"
      ]
     },
     "execution_count": 10,
     "metadata": {},
     "output_type": "execute_result"
    }
   ],
   "source": [
    "compute_patch_padding((1, 15, 24, 29), (7, 14, 14))"
   ]
  },
  {
   "cell_type": "code",
   "execution_count": 23,
   "metadata": {},
   "outputs": [],
   "source": [
    "cp_model = ConvpaintModel()"
   ]
  },
  {
   "cell_type": "code",
   "execution_count": 34,
   "metadata": {},
   "outputs": [
    {
     "data": {
      "text/plain": [
       "(1, 3, 64, 64)"
      ]
     },
     "execution_count": 34,
     "metadata": {},
     "output_type": "execute_result"
    }
   ],
   "source": [
    "cp_model.pre_process_list([img])[0].shape\n",
    "cp_model.pre_process_stack(img).shape"
   ]
  }
 ],
 "metadata": {
  "kernelspec": {
   "display_name": "cp_tests01",
   "language": "python",
   "name": "python3"
  },
  "language_info": {
   "codemirror_mode": {
    "name": "ipython",
    "version": 3
   },
   "file_extension": ".py",
   "mimetype": "text/x-python",
   "name": "python",
   "nbconvert_exporter": "python",
   "pygments_lexer": "ipython3",
   "version": "3.11.10"
  }
 },
 "nbformat": 4,
 "nbformat_minor": 2
}
