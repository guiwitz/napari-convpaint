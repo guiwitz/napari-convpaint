{
 "cells": [
  {
   "cell_type": "markdown",
   "id": "c089a9ba",
   "metadata": {},
   "source": [
    "# Feature Extractor descriptions"
   ]
  },
  {
   "cell_type": "markdown",
   "id": "97359a29",
   "metadata": {},
   "source": [
    "In this section, the different Models for feature extraction that you can use in Convpaint are described.\n",
    "\n",
    "This is currently under construction, and we ask for your patience as we work on it."
   ]
  }
 ],
 "metadata": {
  "language_info": {
   "name": "python"
  }
 },
 "nbformat": 4,
 "nbformat_minor": 5
}
