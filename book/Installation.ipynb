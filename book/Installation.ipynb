{
 "cells": [
  {
   "cell_type": "markdown",
   "metadata": {},
   "source": [
    "# Installation\n",
    "\n",
    "To use the plugin, you **need a working installation of napari**.\n",
    "\n",
    "If you already have napari installed, you can add the plugin via: Plugins → Install/Uninstall Plugins...\n",
    "\n",
    "If you don’t have napari yet, we recommend creating a new conda environment and installing both napari and the plugin there.\n",
    "You can find detailed installation instructions [here](https://napari.org/stable/tutorials/fundamentals/installation.html).\n",
    "\n",
    "Once napari is installed, you can also **install the plugin directly with pip**:\n",
    "\n",
    "```bash\n",
    "pip install napari-convpaint\n",
    "```\n",
    "\n",
    "Or using conda from conda-forge:\n",
    "\n",
    "```bash\n",
    "conda install -c conda-forge napari-convpaint\n",
    "```\n",
    "The plugin should then appear in the list of available plugins in the napari GUI.\n",
    "\n",
    "## GPU\n",
    "\n",
    "The plugin can use a GPU to accelerate computations. We use PyTorch to extract the features from neural networks, vision transformers and other models. As PyTorch gets installed automatically with the plugin (by default without GPU), the easiest is the following:\n",
    "\n",
    "- *first* install napari and the *GPU version* of PyTorch in an environment\n",
    "- *then* install Convpaint\n",
    "\n",
    "For installing a GPU version of PyTorch, you can find all details [here](https://pytorch.org/get-started/locally/)."
   ]
  }
 ],
 "metadata": {
  "language_info": {
   "name": "python"
  },
  "orig_nbformat": 4
 },
 "nbformat": 4,
 "nbformat_minor": 2
}
