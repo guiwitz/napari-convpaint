{
 "cells": [
  {
   "cell_type": "markdown",
   "metadata": {},
   "source": [
    "# Installation\n",
    "\n",
    "To use the plugin, you first need to have a working installation of napari, then you can install using Plugins > Install/Uninstall Plugins... . Otherwise, we recommend creating a new conda environment and install napari and the plugin in it. You can find all details [here](https://napari.org/stable/tutorials/fundamentals/installation.html). Once you have a working napari installation, you can install the plugin using pip with the following command:\n",
    "\n",
    "```bash\n",
    "pip install napari-convpaint\n",
    "```\n",
    "\n",
    "Or using conda from conda-forge:\n"
    "\n",
    "```bash\n",
    "conda install -c conda-forge napari-convpaint\n",
    "```\n",
    "The plugin should then appear in the list of available plugins in the napari GUI.\n",
    "\n",
    "## GPU\n",
    "\n",
    "The plugin can use a GPU to accelerate the computation of the convolved image. We use PyTorch to extract the convolutional features from the neural network. As PyTorch gets installed automatically with the plugin, the easiest is to *first* install napari and the GPU version of PyTorch in an environment and *then* to install the plugin. For a GPU version of PyTorch, you can find all details [here](https://pytorch.org/get-started/locally/)."
   ]
  },
  {
   "cell_type": "code",
   "execution_count": null,
   "metadata": {},
   "outputs": [],
   "source": []
  }
 ],
 "metadata": {
  "language_info": {
   "name": "python"
  },
  "orig_nbformat": 4
 },
 "nbformat": 4,
 "nbformat_minor": 2
}
