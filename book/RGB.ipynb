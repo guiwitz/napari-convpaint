{
 "cells": [
  {
   "cell_type": "markdown",
   "metadata": {
    "editable": true,
    "slideshow": {
     "slide_type": ""
    },
    "tags": []
   },
   "source": [
    "# Working with RGB images"
   ]
  },
  {
   "cell_type": "markdown",
   "metadata": {},
   "source": [
    "In napari, RGB images are opened without a slider for the additional dimension to browse, but instead the channels are used to display the image in the corresponding colors.\n",
    "\n",
    "The Convpaint plugin directly recognizes RGB images as a special type of multi-channel images: Features are extracted from each channel and **combined for training**.\n",
    "\n",
    "In the video below, for example, we segment the pattern of the floor in the Main Building of the University of Bern, the institution where the plugin has been developed.\n",
    "\n",
    "Also note how the model is not limited to background and foreground: multiple classes can be annotated and predicted."
   ]
  },
  {
   "cell_type": "code",
   "execution_count": null,
   "metadata": {
    "editable": true,
    "slideshow": {
     "slide_type": ""
    },
    "tags": []
   },
   "outputs": [],
   "source": [
    "import napari\n",
    "from napari_convpaint.conv_paint_widget import ConvPaintWidget\n",
    "from napari.utils import nbscreenshot\n",
    "import matplotlib.pyplot as plt\n",
    "import skimage\n",
    "\n",
    "im = skimage.io.imread('../images/HB_floor_crop.tiff')\n",
    "\n",
    "viewer = napari.Viewer()\n",
    "viewer.add_image(im)\n",
    "self = ConvPaintWidget(viewer)\n",
    "viewer.window.add_dock_widget(self);"
   ]
  },
  {
   "cell_type": "markdown",
   "metadata": {
    "editable": true,
    "slideshow": {
     "slide_type": ""
    },
    "tags": []
   },
   "source": [
    "<video width=\"620\" controls \n",
    "        src=../images/HB_Floor_movie.webm\n",
    "        type=video/webm> \n",
    "</video>"
   ]
  },
  {
   "cell_type": "markdown",
   "metadata": {
    "editable": true,
    "slideshow": {
     "slide_type": ""
    },
    "tags": []
   },
   "source": [
    "## More classes"
   ]
  },
  {
   "cell_type": "markdown",
   "metadata": {},
   "source": [
    "In the next example we segment 5 different classes of a more complex floor pattern.\n",
    "\n",
    "The training and prediction of more classes might take a little bit longer, but the segmentation is very precise considering the very small number of annotated pixels."
   ]
  },
  {
   "cell_type": "markdown",
   "metadata": {
    "editable": true,
    "slideshow": {
     "slide_type": ""
    },
    "tags": []
   },
   "source": [
    "<video width=\"620\" controls \n",
    "        src=../images/5classes.webm\n",
    "        type=video/webm> \n",
    "</video>"
   ]
  },
  {
   "cell_type": "markdown",
   "metadata": {},
   "source": [
    "## Options for acceleration"
   ]
  },
  {
   "cell_type": "markdown",
   "metadata": {},
   "source": [
    "There are different approaches to speed up training and/or segmentations. For example, we can downsample the input image, which might results in a loss of prediction accuracy, but in some cases may even be beneficial. Another approach is using GPU processing.\n",
    "\n",
    "For more details, please refer to the \"In-depth explanations\"."
   ]
  }
 ],
 "metadata": {
  "kernelspec": {
   "display_name": "Python 3 (ipykernel)",
   "language": "python",
   "name": "python3"
  },
  "language_info": {
   "codemirror_mode": {
    "name": "ipython",
    "version": 3
   },
   "file_extension": ".py",
   "mimetype": "text/x-python",
   "name": "python",
   "nbconvert_exporter": "python",
   "pygments_lexer": "ipython3",
   "version": "3.9.16"
  }
 },
 "nbformat": 4,
 "nbformat_minor": 4
}
