{
 "cells": [
  {
   "cell_type": "markdown",
   "metadata": {
    "editable": true,
    "slideshow": {
     "slide_type": ""
    },
    "tags": []
   },
   "source": [
    "# RGB images\n",
    "\n",
    "The plugin handles directly RGB images as multi-channel images. RGB images are opened in a single layer withouth a slider to browse in napari. The three channels are used like those of actual stacks in the plugin, i.e. features are extracted from each channel separately and then used all together for training.\n",
    "\n",
    "Here for example we segmented the pattern of the floor in the Main Building of University of Bern, where the plugin has been developed.\n",
    "\n",
    "The model is not limited to background and foreground: multiple classes can be annotated and predicted."
   ]
  },
  {
   "cell_type": "code",
   "execution_count": 3,
   "metadata": {
    "editable": true,
    "slideshow": {
     "slide_type": ""
    },
    "tags": []
   },
   "outputs": [],
   "source": [
    "import napari\n",
    "from napari_convpaint.conv_paint import ConvPaintWidget\n",
    "from napari.utils import nbscreenshot\n",
    "import matplotlib.pyplot as plt\n",
    "import skimage\n",
    "\n",
    "im = skimage.io.imread('../images/HB_floor_crop.tiff')\n",
    "\n",
    "viewer = napari.Viewer()\n",
    "viewer.add_image(im)\n",
    "self = ConvPaintWidget(viewer)\n",
    "viewer.window.add_dock_widget(self);"
   ]
  },
  {
   "cell_type": "markdown",
   "metadata": {
    "editable": true,
    "slideshow": {
     "slide_type": ""
    },
    "tags": []
   },
   "source": [
    "<video width=\"620\" controls \n",
    "        src=../images/HB_Floor_movie.webm\n",
    "        type=video/webm> \n",
    "</video>"
   ]
  },
  {
   "cell_type": "markdown",
   "metadata": {
    "editable": true,
    "slideshow": {
     "slide_type": ""
    },
    "tags": []
   },
   "source": [
    "## More classes\n",
    "\n",
    "In this other example we segment 5 different classes of a more complex floor pattern. The training and prediction for more classes might take a little bit longer, but the prediction is excellent considering the very small number of annotated pixels."
   ]
  },
  {
   "cell_type": "markdown",
   "metadata": {
    "editable": true,
    "slideshow": {
     "slide_type": ""
    },
    "tags": []
   },
   "source": [
    "<video width=\"620\" controls \n",
    "        src=../images/5classes.webm\n",
    "        type=video/webm> \n",
    "</video>"
   ]
  },
  {
   "cell_type": "markdown",
   "metadata": {},
   "source": [
    "To speed up the process there are different approaches, as for example downsampling the image, which results in a loss of prediction accuracy, or using GPU processing. For more details, please refer to the \"In-depth explanations\"  "
   ]
  },
  {
   "cell_type": "markdown",
   "metadata": {},
   "source": []
  }
 ],
 "metadata": {
  "kernelspec": {
   "display_name": "Python 3 (ipykernel)",
   "language": "python",
   "name": "python3"
  },
  "language_info": {
   "codemirror_mode": {
    "name": "ipython",
    "version": 3
   },
   "file_extension": ".py",
   "mimetype": "text/x-python",
   "name": "python",
   "nbconvert_exporter": "python",
   "pygments_lexer": "ipython3",
   "version": "3.9.16"
  }
 },
 "nbformat": 4,
 "nbformat_minor": 4
}
