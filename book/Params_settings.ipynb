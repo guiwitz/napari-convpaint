{
 "cells": [
  {
   "cell_type": "markdown",
   "id": "2a465dc8",
   "metadata": {},
   "source": [
    "# Parameters and settings"
   ]
  },
  {
   "cell_type": "markdown",
   "id": "6558e4f6",
   "metadata": {},
   "source": [
    "In this section, the parameters and settings that you can use in Convpaint are described.\n",
    "\n",
    "This is currently under construction, and we ask for your patience as we work on it."
   ]
  }
 ],
 "metadata": {
  "kernelspec": {
   "display_name": "cp-env02",
   "language": "python",
   "name": "python3"
  },
  "language_info": {
   "codemirror_mode": {
    "name": "ipython",
    "version": 3
   },
   "file_extension": ".py",
   "mimetype": "text/x-python",
   "name": "python",
   "nbconvert_exporter": "python",
   "pygments_lexer": "ipython3",
   "version": "3.11.11"
  }
 },
 "nbformat": 4,
 "nbformat_minor": 5
}
