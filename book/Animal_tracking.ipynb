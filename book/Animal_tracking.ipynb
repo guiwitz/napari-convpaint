{
 "cells": [
  {
   "cell_type": "markdown",
   "metadata": {},
   "source": [
    "# Changing feature extractor (DINOv2) to use Convpaint for animal tracking"
   ]
  },
  {
   "cell_type": "markdown",
   "metadata": {},
   "source": [
    "With the pretrained vision transformer DINOv2 as feature extractor, Convpaint is remarkable at detecting animal body parts - or even actions such as closing/opening eyes.\n",
    "\n",
    "Here is a sample frame from a movie, showing segmentation of mouse head, tail and body:\n",
    "\n",
    "![](../images/animal_tracking_workflow/mouse_tracking.png)\n"
   ]
  },
  {
   "cell_type": "markdown",
   "metadata": {},
   "source": [
    "## Tracking animal body parts in movies"
   ]
  },
  {
   "cell_type": "markdown",
   "metadata": {},
   "source": [
    "To achieve this, the first step is to **change the feature extractor** from default VGG16 to DINOv2:\n",
    "\n",
    "1. Switch to the `Model options` tab.\n",
    "2. Select DINOv2 (`dinov2_vits14_reg1`) as feature extractor from the list.\n",
    "3. Click on `Set feature extractor` and you are good to go!\n",
    "\n",
    "Annotate and train your Convpaint model as usual.\n",
    "\n",
    "![](../images/animal_tracking_workflow/model_list.png)\n",
    "\n",
    "<div class=\"alert alert-block alert-info\">\n",
    "<b>Tip:</b> Select `Use GPU` to benefit from GPU acceleration! (Cuda on windows, or MPS on Mac devices.)\n",
    "</div>"
   ]
  },
  {
   "cell_type": "markdown",
   "metadata": {},
   "source": [
    "## Example: Tracking shark body parts in a movie"
   ]
  },
  {
   "cell_type": "markdown",
   "metadata": {},
   "source": [
    "These are the scribble annotations provided for training:\n",
    "\n",
    "![](../images/shark_annot.png)\n",
    "\n",
    "And this is the resulting segmentation video:\n",
    "\n",
    "<video  controls \n",
    "        src=../images/animal_tracking_workflow/segmentation_shark.webm\n",
    "        type=\"video/webm\"\n",
    "        style=\"width: 100%;\"> \n",
    "</video>\n"
   ]
  }
 ],
 "metadata": {
  "kernelspec": {
   "display_name": "napari-env",
   "language": "python",
   "name": "python3"
  },
  "language_info": {
   "codemirror_mode": {
    "name": "ipython",
    "version": 3
   },
   "file_extension": ".py",
   "mimetype": "text/x-python",
   "name": "python",
   "nbconvert_exporter": "python",
   "pygments_lexer": "ipython3",
   "version": "3.9.18"
  }
 },
 "nbformat": 4,
 "nbformat_minor": 2
}
