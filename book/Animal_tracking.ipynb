{
 "cells": [
  {
   "cell_type": "markdown",
   "metadata": {},
   "source": [
    "# Using DINOv2 as feature extractor for animal tracking\n",
    "Using pretrained vision transformers like DINOv2 as feature extractor, Convpaint is remarkable at detecting animal body parts or behaviour, such as closing/opening eyes.\n",
    "\n",
    "Here is a sample frame from a movie, showing segmentation of mouse head, tail and body:\n",
    "\n",
    "![](../images/animal_tracking_workflow/mouse_tracking.png)\n",
    "\n",
    "\n",
    "## Tracking animal body parts in movies\n",
    "\n",
    "First step is to change the feature extractor from default VGG16 to DINOv2. Tick the `Use custom model` box, and then switch to the `Model` tab.\n",
    "\n",
    "![](../images/animal_tracking_workflow/custom_model.png)\n",
    "\n",
    "Next select the DINOv2 model from the model list `dinov2_vits14_reg1`.\n",
    "\n",
    "![](../images/animal_tracking_workflow/model_list.png)\n",
    "\n",
    "Click on load model and you are good to go! Annotate and train your Convpaint model as usual.\n",
    "\n",
    "![](../images/animal_tracking_workflow/load_model.png)\n",
    "\n",
    "<div class=\"alert alert-block alert-info\">\n",
    "<b>Tip:</b> Select `use cuda` to benefit from GPU acceleration! This also works on MPS with Mac devices.\n",
    "</div>\n",
    "\n",
    "## Example use case: Tracking shark body parts in a movie\n",
    "These are the scribble annotations provided for training:\n",
    "![](../images/shark_annot.png)\n",
    "\n",
    "\n",
    "<video  controls \n",
    "        src=../images/animal_tracking_workflow/segmentation_shark.webm\n",
    "        type=\"video/webm\"\n",
    "        style=\"width: 100%;\"> \n",
    "\n",
    "</video>\n"
   ]
  }
 ],
 "metadata": {
  "kernelspec": {
   "display_name": "napari-env",
   "language": "python",
   "name": "python3"
  },
  "language_info": {
   "codemirror_mode": {
    "name": "ipython",
    "version": 3
   },
   "file_extension": ".py",
   "mimetype": "text/x-python",
   "name": "python",
   "nbconvert_exporter": "python",
   "pygments_lexer": "ipython3",
   "version": "3.9.18"
  }
 },
 "nbformat": 4,
 "nbformat_minor": 2
}
